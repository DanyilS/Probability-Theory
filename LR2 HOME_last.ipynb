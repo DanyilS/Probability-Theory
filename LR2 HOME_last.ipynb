{
 "cells": [
  {
   "cell_type": "code",
   "execution_count": 11,
   "metadata": {},
   "outputs": [
    {
     "name": "stdout",
     "output_type": "stream",
     "text": [
      "Your possible password:  qA6+q%;9b,\n"
     ]
    }
   ],
   "source": [
    "import numpy as np\n",
    "\n",
    "def make_password():\n",
    "    sml_leters = ['a', 'b', 'c', 'd', 'e', 'f', 'g', 'h', 'i', 'j', 'k', 'l', 'm', 'n', 'o', 'p', 'q', 'r', 's', 't', 'u', 'v', 'w', 'x', 'y', 'z']\n",
    "    big_leters = ['A', 'B', 'C', 'D', 'E', 'F', 'G', 'H', 'I', 'J', 'K', 'L', 'M', 'N', 'O', 'P', 'Q', 'R', 'S', 'T', 'U', 'V', 'W', 'X', 'Y', 'Z']\n",
    "    numb = ['0', '1', '2', '3', '4', '5', '6', '7', '8', '9']\n",
    "    symb = ['~', '!', '@', '#', '$', '%', \"&\", \"*\", \"(\", \")\", \"-\", \"_\", \"+\", \"=\", '\\\\', '/', '{', '}', '[', ']', '.', ',', '?', '<', '>', ':', ';']\n",
    "    all = ['a', 'b', 'c', 'd', 'e', 'f', 'g', 'h',\n",
    "           'i', 'j', 'k', 'l', 'm', 'n', 'o', 'p',\n",
    "           'q', 'r', 's', 't', 'u', 'v', 'w', 'x', 'y', 'z',\n",
    "           'A', 'B', 'C', 'D', 'E', 'F', 'G', 'H', 'I', 'J',\n",
    "           'K', 'L', 'M', 'N', 'O', 'P', 'Q', 'R', 'S', 'T',\n",
    "           'U', 'V', 'W', 'X', 'Y', 'Z', '0', '1', '2', '3',\n",
    "           '4', '5', '6', '7', '8', '9', '~', '!', '@', '#',\n",
    "           '$', '%', \"&\", \"*\", \"(\", \")\", \"-\", \"_\", \"+\", \"=\",\n",
    "           '\\\\', '/', '{', '}', '[', ']', '.', ',', '?', '<',\n",
    "           '>', ':', ';']\n",
    "\n",
    "    password = []\n",
    "    password.append(list(np.random.choice(sml_leters)))\n",
    "    password.append(list(np.random.choice(big_leters)))\n",
    "    password.append(list(np.random.choice(numb)))\n",
    "    password.append(list(np.random.choice(symb)))\n",
    "    password.append(list(np.random.choice(all, 6)))\n",
    "\n",
    "    ans = ''\n",
    "    for i in range(len(password)):\n",
    "        for j in range(len(password[i])):\n",
    "            ans += password[i][j]\n",
    "    print(\"Your possible password: \", ans)\n",
    "make_password()"
   ]
  },
  {
   "cell_type": "code",
   "execution_count": 4,
   "metadata": {},
   "outputs": [
    {
     "name": "stdout",
     "output_type": "stream",
     "text": [
      "For k = 2, n = 10 emperical probability = 0.2, theoretical = 0.25;\n",
      "For k = 2, n = 50 emperical probability = 0.32, theoretical = 0.25;\n",
      "For k = 2, n = 100 emperical probability = 0.27, theoretical = 0.25;\n",
      "For k = 2, n = 500 emperical probability = 0.246, theoretical = 0.25;\n",
      "For k = 2, n = 1000 emperical probability = 0.246, theoretical = 0.25;\n",
      "For k = 2, n = 5000 emperical probability = 0.2446, theoretical = 0.25;\n",
      "For k = 2, n = 10000 emperical probability = 0.2545, theoretical = 0.25;\n",
      "-------------            -------------------                ------------\n",
      "For k = 3, n = 10 emperical probability = 0, theoretical = 0.125;\n",
      "For k = 3, n = 50 emperical probability = 0.1, theoretical = 0.125;\n",
      "For k = 3, n = 100 emperical probability = 0.07, theoretical = 0.125;\n",
      "For k = 3, n = 500 emperical probability = 0.116, theoretical = 0.125;\n",
      "For k = 3, n = 1000 emperical probability = 0.129, theoretical = 0.125;\n",
      "For k = 3, n = 5000 emperical probability = 0.1194, theoretical = 0.125;\n",
      "For k = 3, n = 10000 emperical probability = 0.1233, theoretical = 0.125;\n"
     ]
    }
   ],
   "source": [
    "\n",
    "import numpy as np\n",
    "def experiment(n):\n",
    "    p=0.5\n",
    "    tosses=np.random.choice([\"H\",\"T\"],p=[p,1-p], size=n)\n",
    "    return list(tosses)\n",
    "\n",
    "\n",
    "\n",
    "def calc_emperic_probability_2(tosses):\n",
    "    counter = 0\n",
    "    for i in range(len(tosses)-1):\n",
    "        if (tosses[i] == tosses[i+1] == 'H'):\n",
    "            counter += 1\n",
    "    if counter == 0:\n",
    "        return 0\n",
    "    ans = counter/len(tosses)\n",
    "#     ans = str(counter) + '/' + str(len(tosses) - 1)\n",
    "    return ans\n",
    "\n",
    "\n",
    "def calc_emperic_probability_3(tosses):\n",
    "    counter = 0\n",
    "    for i in range(len(tosses)-2):\n",
    "        if (tosses[i] == tosses[i+1] == tosses[i+2] == 'H'):\n",
    "            counter += 1\n",
    "    if counter == 0:\n",
    "        return 0\n",
    "    elif counter == 1:\n",
    "        return 1\n",
    "    ans = counter/len(tosses)\n",
    "#     ans = str(counter) + '/' + str(len(tosses) - 1)\n",
    "    return ans\n",
    "\n",
    "\n",
    "\n",
    "val_n = [10, 50, 100, 500, 1000, 5000, 10000]\n",
    "for i in val_n:\n",
    "    exp = experiment(i)\n",
    "    print(\"For k = 2, n = {} emperical probability = {}, theoretical = {};\".format(i,calc_emperic_probability_2(exp), 2**(i-2)/(2**i)))\n",
    "\n",
    "print(\"-------------            -------------------                ------------\")\n",
    "for i in val_n:\n",
    "    exp = experiment(i)\n",
    "    print(\"For k = 3, n = {} emperical probability = {}, theoretical = {};\".format(i,calc_emperic_probability_3(exp), 2**(i-3)/(2**i)))\n"
   ]
  },
  {
   "cell_type": "markdown",
   "metadata": {},
   "source": []
  },
  {
   "cell_type": "code",
   "execution_count": 16,
   "metadata": {},
   "outputs": [
    {
     "name": "stdout",
     "output_type": "stream",
     "text": [
      "Theoretical probability when n = 3, x_max = 6 is 0.4212962962962963\n",
      "Empirical probability: 0.4219\n",
      "Theoretical probability when n = 2, x_max = 3 is 0.1388888888888889\n",
      "Empirical probability: 0.1412\n",
      "Theoretical probability when n = 3, x_max = 5 is 0.2824074074074074\n",
      "Empirical probability: 0.2876\n"
     ]
    }
   ],
   "source": [
    "from itertools import combinations_with_replacement, product\n",
    "import numpy as np\n",
    "A = [1, 2, 3, 4, 5, 6]\n",
    "\n",
    "\n",
    "def calcul_theor(n, x_max):\n",
    "    # перестановки довжини n множини A\n",
    "    permute_k = list(product(A, repeat=n))\n",
    "\n",
    "    counter = 0\n",
    "    for i in permute_k:\n",
    "        if max(i) == x_max:\n",
    "            counter += 1\n",
    "    ans = counter/len(permute_k)\n",
    "    return ans\n",
    "\n",
    "occas = [[3,6],[2,3],[3,5]]\n",
    "for i in occas:\n",
    "    print(\"Theoretical probability when n = {}, x_max = {} is {}\".format(i[0], i[1], calcul_theor(i[0], i[1])))\n",
    "\n",
    "    b = [max(np.random.choice(A, size=i[0])) for k  in range(10000)]\n",
    "    print('Empirical probability:', (b.count(i[1])/10000))"
   ]
  },
  {
   "cell_type": "code",
   "execution_count": 17,
   "metadata": {},
   "outputs": [
    {
     "name": "stdout",
     "output_type": "stream",
     "text": [
      "n = 3, sum = 13\n",
      "Our theoretical probability: ('Theoretical probability: ', 0.09722222222222222)\n",
      "Empirical probability: 0.0955\n",
      "n = 2, sum = 5\n",
      "Our theoretical probability: ('Theoretical probability: ', 0.1111111111111111)\n",
      "Empirical probability: 0.1091\n",
      "n = 3, sum = 7\n",
      "Our theoretical probability: ('Theoretical probability: ', 0.06944444444444445)\n",
      "Empirical probability: 0.0735\n"
     ]
    }
   ],
   "source": [
    "import itertools\n",
    "import numpy as np\n",
    "\n",
    "\n",
    "N = 10000\n",
    "val = [1,2,3,4,5,6]\n",
    "p = [[3, 13], [2, 5], [3, 7]]\n",
    "def prob(n, s):\n",
    "    lst = list(itertools.product(val, repeat=n))\n",
    "    print('n = {}, sum = {}'.format(n, s))\n",
    "    a = []\n",
    "    for x in lst:\n",
    "        if sum(x) == s:\n",
    "            a.append(x)\n",
    "\n",
    "    return ('Theoretical probability: ',(len(a) / len(lst)))\n",
    "\n",
    "for n, s in p:\n",
    "    if (s< n) or ( s > 6*n):\n",
    "        print(0)\n",
    "    else:\n",
    "        print('Our theoretical probability:',prob(n,s))\n",
    "        b = [sum(np.random.choice(val, size=n)) for i  in range(N)]\n",
    "        print('Empirical probability:', (b.count(s)/N))"
   ]
  },
  {
   "cell_type": "code",
   "execution_count": null,
   "metadata": {},
   "outputs": [],
   "source": []
  }
 ],
 "metadata": {
  "kernelspec": {
   "display_name": "Python 3",
   "language": "python",
   "name": "python3"
  },
  "language_info": {
   "codemirror_mode": {
    "name": "ipython",
    "version": 3
   },
   "file_extension": ".py",
   "mimetype": "text/x-python",
   "name": "python",
   "nbconvert_exporter": "python",
   "pygments_lexer": "ipython3",
   "version": "3.6.5"
  }
 },
 "nbformat": 4,
 "nbformat_minor": 2
}
